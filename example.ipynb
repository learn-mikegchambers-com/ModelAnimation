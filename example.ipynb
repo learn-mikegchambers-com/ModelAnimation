{
 "cells": [
  {
   "cell_type": "markdown",
   "metadata": {},
   "source": [
    "# ModelAnimation Example Notebook\n",
    "\n",
    "This sample notebook demos the use of ModelAnimation on a simple TF model.\n",
    "\n",
    "The first few cells have nothing to do with ModelAnimation, other than setting up the model."
   ]
  },
  {
   "cell_type": "code",
   "execution_count": null,
   "metadata": {},
   "outputs": [],
   "source": [
    "import tensorflow as tf\n",
    "tf.logging.set_verbosity(tf.logging.ERROR)\n",
    "\n",
    "from sklearn.model_selection import train_test_split\n",
    "import numpy as np\n",
    "import random\n",
    "import matplotlib.pyplot as plt"
   ]
  },
  {
   "cell_type": "markdown",
   "metadata": {},
   "source": [
    "Creating a simple 'home-made' data set."
   ]
  },
  {
   "cell_type": "code",
   "execution_count": null,
   "metadata": {},
   "outputs": [],
   "source": [
    "template = np.array([[2.0,2.0,2.0,0.1,0.1,0.1,0.1,0.1,0.1],\n",
    "                     [0.1,0.1,2.0,0.1,0.1,2.0,0.1,0.1,2.0],\n",
    "                     [0.1,0.1,0.1,0.1,0.1,0.1,2.0,2.0,2.0],\n",
    "                     [2.0,0.1,0.1,2.0,0.1,0.1,2.0,0.1,0.1],\n",
    "                     [2.0,0.1,0.1,0.1,2.0,0.1,0.1,0.1,2.0],\n",
    "                     [0.1,0.1,2.0,0.1,2.0,0.1,2.0,0.1,0.1]])"
   ]
  },
  {
   "cell_type": "code",
   "execution_count": null,
   "metadata": {},
   "outputs": [],
   "source": [
    "X = []\n",
    "y = []\n",
    "\n",
    "for _ in range(2000):\n",
    "    for i in range(len(template)):\n",
    "        r = np.random.rand(9)\n",
    "        X.append(template[i] * r)\n",
    "        y.append(i)\n",
    "        \n",
    "X = np.array(X)\n",
    "y = np.array(y)"
   ]
  },
  {
   "cell_type": "code",
   "execution_count": null,
   "metadata": {},
   "outputs": [],
   "source": [
    "X_train, X_test, y_train, y_test = train_test_split(X, y, test_size=0.33, random_state=0)"
   ]
  },
  {
   "cell_type": "code",
   "execution_count": null,
   "metadata": {},
   "outputs": [],
   "source": [
    "plt.figure(figsize=(15,5))\n",
    "for i in range(16*4):\n",
    "    plt.subplot(4,16,i+1)\n",
    "    plt.xticks([])\n",
    "    plt.yticks([])\n",
    "    plt.imshow(X_train[i].reshape(3,3), cmap='Greys')\n",
    "    plt.xlabel(y_train[i])\n",
    "plt.show()"
   ]
  },
  {
   "cell_type": "markdown",
   "metadata": {},
   "source": [
    "# ModelAnimation\n",
    "\n",
    "## The following cell includes the ModelAnimation code, and sets up a custom TensorFlow Keras callback.  There are three callbacks:\n",
    "\n",
    "- on_train_begin - This stores the model weights in a list called `model_weights` at the start of the training.  Boradly speaking this will store the randomised starting position.\n",
    "\n",
    "- on_epoch_end - This will append to `model_weights` after each epoch\n",
    "\n",
    "- on_train_end - When the training is complete, this callback will trigger the rendering of the frames and optionally the animation.  When calling `create_animation` there are several named parameters you can pass in.  These are listed inthe readme file in github. "
   ]
  },
  {
   "cell_type": "code",
   "execution_count": null,
   "metadata": {},
   "outputs": [],
   "source": [
    "from ModelAnimation import ModelAnimation\n",
    "\n",
    "class CustomCallback(tf.keras.callbacks.Callback):\n",
    "    def on_train_begin(self, logs=None):\n",
    "        model_weights.append(model.get_weights())\n",
    "        \n",
    "    def on_epoch_end(self, epoch, logs=None):\n",
    "        model_weights.append(model.get_weights())\n",
    "\n",
    "    def on_train_end(self, logs=None):\n",
    "        animation = ModelAnimation()\n",
    "        animation.create_animation(model_weights, model.input.shape.as_list(),\n",
    "                                   margin=150,\n",
    "                                   node_size=50,\n",
    "                                   node_gap=20,\n",
    "                                   conn_max_width=10,\n",
    "                                   background_rgba=(220,220,220,255),\n",
    "                                   gif=True, \n",
    "                                   frame_numbers=True)"
   ]
  },
  {
   "cell_type": "markdown",
   "metadata": {},
   "source": [
    "## At the start of this cell we create `model_weights`.  We do this here so that if we re-run the training, the list will start again."
   ]
  },
  {
   "cell_type": "code",
   "execution_count": null,
   "metadata": {},
   "outputs": [],
   "source": [
    "# Clear some value (incase we run multiple times)\n",
    "tf.keras.backend.clear_session()\n",
    "model_weights = []\n",
    "\n",
    "# Create a TF sequential model with Keras\n",
    "model = tf.keras.models.Sequential([\n",
    "  tf.keras.layers.Input(9),\n",
    "  tf.keras.layers.Dense(12, activation='relu'),\n",
    "  tf.keras.layers.Dense(6, activation='softmax')\n",
    "])\n",
    "\n",
    "model.compile(optimizer='adam',\n",
    "              loss='sparse_categorical_crossentropy',\n",
    "              metrics=['accuracy'])"
   ]
  },
  {
   "cell_type": "markdown",
   "metadata": {},
   "source": [
    "## When we call `model.fit` we pass in the `callbacks` object, and the animation will run automatically at the end of the training."
   ]
  },
  {
   "cell_type": "code",
   "execution_count": null,
   "metadata": {},
   "outputs": [],
   "source": [
    "e = model.fit(X_train, y_train,\n",
    "              epochs=10,\n",
    "              callbacks=[CustomCallback()])"
   ]
  }
 ],
 "metadata": {
  "kernelspec": {
   "display_name": "conda_tensorflow_p36",
   "language": "python",
   "name": "conda_tensorflow_p36"
  },
  "language_info": {
   "codemirror_mode": {
    "name": "ipython",
    "version": 3
   },
   "file_extension": ".py",
   "mimetype": "text/x-python",
   "name": "python",
   "nbconvert_exporter": "python",
   "pygments_lexer": "ipython3",
   "version": "3.6.10"
  }
 },
 "nbformat": 4,
 "nbformat_minor": 4
}
